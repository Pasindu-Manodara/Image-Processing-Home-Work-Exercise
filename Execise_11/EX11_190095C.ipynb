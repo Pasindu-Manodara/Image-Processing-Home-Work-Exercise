{
 "cells": [
  {
   "cell_type": "code",
   "execution_count": 17,
   "metadata": {},
   "outputs": [
    {
     "name": "stdout",
     "output_type": "stream",
     "text": [
      "train_images.shape:  (60000, 32, 32)\n",
      "train_labels.shape:  (60000,)\n",
      "test_images.shape: (10000, 32, 32)\n",
      "test_labels.shape: (10000,)\n"
     ]
    }
   ],
   "source": [
    "import tensorflow as tf\n",
    "from tensorflow import keras\n",
    "from tensorflow.keras import datasets, layers, models\n",
    "import numpy as np\n",
    "import matplotlib.pyplot as plt\n",
    "\n",
    "mnist = keras.datasets.mnist\n",
    "(train_images, train_labels), (test_images, test_labels) = mnist.load_data()\n",
    "\n",
    "\n",
    "# Padding\n",
    "paddings = tf.constant([[0, 0], [2, 2], [2, 2]])\n",
    "train_images = tf.pad(train_images, paddings, constant_values=0)\n",
    "test_images = tf.pad(test_images, paddings, constant_values=0)\n",
    "\n",
    "print('train_images.shape: ', train_images.shape)\n",
    "print('train_labels.shape: ', train_labels.shape)\n",
    "print('test_images.shape:', test_images.shape)\n",
    "print('test_labels.shape:', test_labels.shape)\n",
    "class_names = ['0', '1', '2', '3', '4', '5', '6', '7', '8', '9']\n",
    "\n",
    "train_images = tf.dtypes.cast(train_images, tf.float32)\n",
    "test_images = tf.dtypes.cast(test_images, tf.float32)\n",
    "train_images, test_images = train_images[..., np.newaxis]/255.0, test_images[..., np.newaxis]/255.0"
   ]
  },
  {
   "cell_type": "code",
   "execution_count": 18,
   "metadata": {},
   "outputs": [
    {
     "name": "stdout",
     "output_type": "stream",
     "text": [
      "<bound method Model.summary of <keras.engine.sequential.Sequential object at 0x000001FE8811AFB0>>\n",
      "Epoch 1/5\n",
      "1875/1875 [==============================] - 9s 5ms/step - loss: 0.2119 - accuracy: 0.9354\n",
      "Epoch 2/5\n",
      "1875/1875 [==============================] - 9s 5ms/step - loss: 0.0715 - accuracy: 0.9787\n",
      "Epoch 3/5\n",
      "1875/1875 [==============================] - 9s 5ms/step - loss: 0.0498 - accuracy: 0.9850\n",
      "Epoch 4/5\n",
      "1875/1875 [==============================] - 11s 6ms/step - loss: 0.0398 - accuracy: 0.9874\n",
      "Epoch 5/5\n",
      "1875/1875 [==============================] - 10s 6ms/step - loss: 0.0317 - accuracy: 0.9900\n",
      "313/313 - 1s - loss: 0.0380 - accuracy: 0.9876 - 557ms/epoch - 2ms/step\n"
     ]
    }
   ],
   "source": [
    "model = models.Sequential()\n",
    "model.add(layers.Conv2D(6,(5,5),activation = 'relu',input_shape = (32,32,1)))\n",
    "model.add(layers.AveragePooling2D((2,2)))\n",
    "model.add(layers.Conv2D(16,(5,5),activation = 'relu'))\n",
    "model.add(layers.AveragePooling2D((2,2)))\n",
    "\n",
    "model.add(layers.Flatten())\n",
    "model.add(layers.Dense(120,activation = 'relu'))\n",
    "model.add(layers.Dense(84,activation = 'relu'))\n",
    "model.add(layers.Dense(10))\n",
    "\n",
    "model.compile(optimizer = 'adam',loss = tf.keras.losses.SparseCategoricalCrossentropy(from_logits=True),metrics = ['accuracy'])\n",
    "print(model.summary)\n",
    "model.fit(train_images,train_labels,epochs = 5)\n",
    "test_loss, test_accuracy = model.evaluate(test_images,test_labels,verbose = 2)"
   ]
  },
  {
   "cell_type": "code",
   "execution_count": 13,
   "metadata": {},
   "outputs": [],
   "source": [
    "import tensorflow as tf\n",
    "from tensorflow import keras\n",
    "import matplotlib.pyplot as plt\n",
    "from tensorflow.keras.datasets import cifar10, mnist\n",
    "import tensorflow as tf\n",
    "import matplotlib.pyplot as plt\n",
    "(train_images, train_labels), (test_images, test_labels) = datasets.cifar10.load_data()\n",
    "\n",
    "# Normalize pixel values to be between 0 and 1\n",
    "train_images, test_images = train_images / 255.0, test_images / 255.0\n",
    "class_names = ['airplane', 'automobile', 'bird', 'cat', 'deer', 'dog', 'frog', 'horse', 'ship', 'truck']"
   ]
  },
  {
   "cell_type": "code",
   "execution_count": 14,
   "metadata": {},
   "outputs": [
    {
     "name": "stdout",
     "output_type": "stream",
     "text": [
      "<bound method Model.summary of <keras.engine.sequential.Sequential object at 0x000001FEC23F6E60>>\n",
      "Epoch 1/5\n",
      "1563/1563 [==============================] - 29s 18ms/step - loss: 1.5542 - accuracy: 0.4323\n",
      "Epoch 2/5\n",
      "1563/1563 [==============================] - 29s 19ms/step - loss: 1.2046 - accuracy: 0.5711\n",
      "Epoch 3/5\n",
      "1563/1563 [==============================] - 30s 19ms/step - loss: 1.0475 - accuracy: 0.6315\n",
      "Epoch 4/5\n",
      "1563/1563 [==============================] - 30s 19ms/step - loss: 0.9408 - accuracy: 0.6710\n",
      "Epoch 5/5\n",
      "1563/1563 [==============================] - 31s 20ms/step - loss: 0.8614 - accuracy: 0.6995\n",
      "313/313 - 1s - loss: 0.9842 - accuracy: 0.6594 - 1s/epoch - 4ms/step\n",
      "0.6593999862670898\n"
     ]
    }
   ],
   "source": [
    "model = models.Sequential()\n",
    "model.add(layers.Conv2D(32,(5,5),activation = 'relu',input_shape = (32,32,3)))\n",
    "model.add(layers.MaxPool2D((2,2)))\n",
    "model.add(layers.Conv2D(64,(3,3),activation = 'relu'))\n",
    "model.add(layers.MaxPool2D((2,2)))\n",
    "model.add(layers.Conv2D(128,(3,3),activation = 'relu'))\n",
    "model.add(layers.MaxPool2D((2,2)))\n",
    "model.add(layers.Flatten())\n",
    "model.add(layers.Dense(64,activation = 'relu'))\n",
    "model.add(layers.Dense(10))\n",
    "\n",
    "model.compile(optimizer=keras.optimizers.Adam(learning_rate = 0.001),loss = tf.keras.losses.SparseCategoricalCrossentropy(from_logits=True),metrics = ['accuracy'])\n",
    "print(model.summary)\n",
    "\n",
    "model.fit(train_images,train_labels,epochs = 5)\n",
    "test_loss, test_accuracy = model.evaluate(test_images,test_labels,verbose = 2)\n",
    "print(test_accuracy)"
   ]
  },
  {
   "cell_type": "code",
   "execution_count": 19,
   "metadata": {},
   "outputs": [
    {
     "name": "stdout",
     "output_type": "stream",
     "text": [
      "train_images.shape:  (60000, 32, 32)\n",
      "train_labels.shape:  (60000,)\n",
      "test_images.shape: (10000, 32, 32)\n",
      "test_labels.shape: (10000,)\n",
      "<bound method Model.summary of <keras.engine.sequential.Sequential object at 0x000001FEC23ACB20>>\n",
      "Epoch 1/2\n",
      "1875/1875 [==============================] - 33s 18ms/step - loss: 0.1299 - accuracy: 0.9596\n",
      "Epoch 2/2\n",
      "1875/1875 [==============================] - 33s 18ms/step - loss: 0.0423 - accuracy: 0.9866\n",
      "313/313 - 1s - loss: 0.0349 - accuracy: 0.9888 - 1s/epoch - 4ms/step\n"
     ]
    }
   ],
   "source": [
    "import tensorflow as tf\n",
    "from tensorflow import keras\n",
    "from tensorflow.keras import datasets, layers, models\n",
    "import numpy as np\n",
    "import matplotlib.pyplot as plt\n",
    "\n",
    "mnist = keras.datasets.mnist\n",
    "(train_images, train_labels), (test_images, test_labels) = mnist.load_data()\n",
    "\n",
    "# Padding\n",
    "paddings = tf.constant([[0, 0], [2, 2], [2, 2]])\n",
    "train_images = tf.pad(train_images, paddings, constant_values=0)\n",
    "test_images = tf.pad(test_images, paddings, constant_values=0)\n",
    "\n",
    "print('train_images.shape: ', train_images.shape)\n",
    "print('train_labels.shape: ', train_labels.shape)\n",
    "print('test_images.shape:', test_images.shape)\n",
    "print('test_labels.shape:', test_labels.shape)\n",
    "class_names = ['0', '1', '2', '3', '4', '5', '6', '7', '8', '9']\n",
    "\n",
    "train_images = tf.dtypes.cast(train_images, tf.float32)\n",
    "test_images = tf.dtypes.cast(test_images, tf.float32)\n",
    "train_images, test_images = train_images[..., np.newaxis]/255.0, test_images[..., np.newaxis]/255.0\n",
    "\n",
    "model_base = models.Sequential()\n",
    "model_base.add(layers.Conv2D(32,(3,3),activation = 'relu',input_shape = (32,32,1)))\n",
    "model_base.add(layers.MaxPool2D((2,2)))\n",
    "model_base.add(layers.Conv2D(64,(3,3),activation = 'relu'))\n",
    "model_base.add(layers.MaxPool2D((2,2)))\n",
    "model_base.add(layers.Conv2D(64,(3,3),activation = 'relu'))\n",
    "\n",
    "model_base.add(layers.Flatten())\n",
    "model_base.add(layers.Dense(64,activation = 'relu'))\n",
    "model_base.add(layers.Dense(10))\n",
    "\n",
    "model_base.compile(optimizer =keras.optimizers.Adam(),loss = tf.keras.losses.SparseCategoricalCrossentropy(from_logits=True),metrics = ['accuracy'])\n",
    "print(model_base.summary)\n",
    "\n",
    "model_base.fit(train_images,train_labels,epochs = 2)\n",
    "test_loss, test_accuracy = model_base.evaluate(test_images,test_labels,verbose = 2)\n",
    "model_base.save_weights('saved_weights/')"
   ]
  },
  {
   "cell_type": "code",
   "execution_count": 20,
   "metadata": {},
   "outputs": [
    {
     "name": "stdout",
     "output_type": "stream",
     "text": [
      "<bound method Model.summary of <keras.engine.sequential.Sequential object at 0x000001FEC23BE2C0>>\n",
      "Epoch 1/2\n",
      "1875/1875 [==============================] - 33s 17ms/step - loss: 0.0293 - accuracy: 0.9910\n",
      "Epoch 2/2\n",
      "1875/1875 [==============================] - 31s 17ms/step - loss: 0.0228 - accuracy: 0.9927\n",
      "313/313 - 1s - loss: 0.0282 - accuracy: 0.9919 - 1s/epoch - 4ms/step\n",
      "INFO:tensorflow:Assets written to: saved_model/assets\n"
     ]
    }
   ],
   "source": [
    "model_lw = models.Sequential()\n",
    "model_lw.add(layers.Conv2D(32,(3,3),activation = 'relu',input_shape = (32,32,1)))\n",
    "model_lw.add(layers.MaxPool2D((2,2)))\n",
    "model_lw.add(layers.Conv2D(64,(3,3),activation = 'relu'))\n",
    "model_lw.add(layers.MaxPool2D((2,2)))\n",
    "model_lw.add(layers.Conv2D(64,(3,3),activation = 'relu'))\n",
    "\n",
    "model_lw.add(layers.Flatten())\n",
    "model_lw.add(layers.Dense(64,activation = 'relu'))\n",
    "model_lw.add(layers.Dense(10))\n",
    "\n",
    "model_lw.compile(optimizer =keras.optimizers.Adam(),loss = tf.keras.losses.SparseCategoricalCrossentropy(from_logits=True),metrics = ['accuracy'])\n",
    "print(model_lw.summary)\n",
    "\n",
    "model_lw.load_weights('saved_weights/')\n",
    "\n",
    "model_lw.fit(train_images,train_labels,epochs = 2)\n",
    "test_loss, test_accuracy = model_lw.evaluate(test_images,test_labels,verbose = 2)\n",
    "model_lw.save('saved_model/')"
   ]
  },
  {
   "cell_type": "code",
   "execution_count": 21,
   "metadata": {},
   "outputs": [
    {
     "name": "stdout",
     "output_type": "stream",
     "text": [
      "Model: \"sequential_6\"\n",
      "_________________________________________________________________\n",
      " Layer (type)                Output Shape              Param #   \n",
      "=================================================================\n",
      " conv2d_14 (Conv2D)          (None, 30, 30, 32)        320       \n",
      "                                                                 \n",
      " max_pooling2d_5 (MaxPooling  (None, 15, 15, 32)       0         \n",
      " 2D)                                                             \n",
      "                                                                 \n",
      " conv2d_15 (Conv2D)          (None, 13, 13, 64)        18496     \n",
      "                                                                 \n",
      " max_pooling2d_6 (MaxPooling  (None, 6, 6, 64)         0         \n",
      " 2D)                                                             \n",
      "                                                                 \n",
      " conv2d_16 (Conv2D)          (None, 4, 4, 64)          36928     \n",
      "                                                                 \n",
      " flatten_6 (Flatten)         (None, 1024)              0         \n",
      "                                                                 \n",
      " dense_16 (Dense)            (None, 64)                65600     \n",
      "                                                                 \n",
      " dense_17 (Dense)            (None, 10)                650       \n",
      "                                                                 \n",
      "=================================================================\n",
      "Total params: 121,994\n",
      "Trainable params: 121,994\n",
      "Non-trainable params: 0\n",
      "_________________________________________________________________\n",
      "None\n",
      "313/313 - 1s - loss: 0.0282 - accuracy: 0.9919 - 1s/epoch - 4ms/step\n"
     ]
    },
    {
     "data": {
      "text/plain": [
       "[0.02815091609954834, 0.9919000267982483]"
      ]
     },
     "execution_count": 21,
     "metadata": {},
     "output_type": "execute_result"
    }
   ],
   "source": [
    "# loading the model\n",
    "model_ld = keras.models.load_model('saved_model/')\n",
    "print(model_ld.summary())\n",
    "model_ld.evaluate(test_images,test_labels, verbose=2)"
   ]
  },
  {
   "cell_type": "code",
   "execution_count": 22,
   "metadata": {},
   "outputs": [
    {
     "name": "stdout",
     "output_type": "stream",
     "text": [
      "Model: \"model\"\n",
      "_________________________________________________________________\n",
      " Layer (type)                Output Shape              Param #   \n",
      "=================================================================\n",
      " conv2d_14_input (InputLayer  [(None, 32, 32, 1)]      0         \n",
      " )                                                               \n",
      "                                                                 \n",
      " conv2d_14 (Conv2D)          (None, 30, 30, 32)        320       \n",
      "                                                                 \n",
      " max_pooling2d_5 (MaxPooling  (None, 15, 15, 32)       0         \n",
      " 2D)                                                             \n",
      "                                                                 \n",
      " conv2d_15 (Conv2D)          (None, 13, 13, 64)        18496     \n",
      "                                                                 \n",
      " max_pooling2d_6 (MaxPooling  (None, 6, 6, 64)         0         \n",
      " 2D)                                                             \n",
      "                                                                 \n",
      " conv2d_16 (Conv2D)          (None, 4, 4, 64)          36928     \n",
      "                                                                 \n",
      " flatten_6 (Flatten)         (None, 1024)              0         \n",
      "                                                                 \n",
      " dense_16 (Dense)            (None, 64)                65600     \n",
      "                                                                 \n",
      " dense_18 (Dense)            (None, 10)                650       \n",
      "                                                                 \n",
      "=================================================================\n",
      "Total params: 121,994\n",
      "Trainable params: 121,994\n",
      "Non-trainable params: 0\n",
      "_________________________________________________________________\n",
      "None\n",
      "Epoch 1/3\n",
      "1875/1875 - 28s - loss: 0.0519 - accuracy: 0.9843 - 28s/epoch - 15ms/step\n",
      "Epoch 2/3\n",
      "1875/1875 - 29s - loss: 0.0171 - accuracy: 0.9944 - 29s/epoch - 15ms/step\n",
      "Epoch 3/3\n",
      "1875/1875 - 28s - loss: 0.0138 - accuracy: 0.9957 - 28s/epoch - 15ms/step\n",
      "313/313 - 1s - loss: 0.0317 - accuracy: 0.9905 - 1s/epoch - 4ms/step\n"
     ]
    },
    {
     "data": {
      "text/plain": [
       "[0.03169073909521103, 0.9904999732971191]"
      ]
     },
     "execution_count": 22,
     "metadata": {},
     "output_type": "execute_result"
    }
   ],
   "source": [
    "base_inputs = model_ld.layers[0].input\n",
    "base_outputs = model_ld.layers[-2].output\n",
    "output = layers.Dense(10)(base_outputs)\n",
    "\n",
    "new_model = keras.Model(inputs=base_inputs, outputs = output)\n",
    "new_model.compile(optimizer =keras.optimizers.Adam(),loss = tf.keras.losses.SparseCategoricalCrossentropy(from_logits=True),metrics = ['accuracy'])\n",
    "print(new_model.summary())\n",
    "\n",
    "new_model.fit(train_images,train_labels,epochs = 3,verbose = 2)\n",
    "new_model.evaluate(test_images, test_labels, verbose=2)"
   ]
  },
  {
   "cell_type": "code",
   "execution_count": 23,
   "metadata": {},
   "outputs": [
    {
     "name": "stdout",
     "output_type": "stream",
     "text": [
      "Epoch 1/3\n",
      "1875/1875 - 7s - loss: 0.2019 - accuracy: 0.9539 - 7s/epoch - 4ms/step\n",
      "Epoch 2/3\n",
      "1875/1875 - 7s - loss: 0.0140 - accuracy: 0.9964 - 7s/epoch - 4ms/step\n",
      "Epoch 3/3\n",
      "1875/1875 - 7s - loss: 0.0099 - accuracy: 0.9975 - 7s/epoch - 4ms/step\n",
      "313/313 - 1s - loss: 0.0229 - accuracy: 0.9929 - 1s/epoch - 4ms/step\n"
     ]
    },
    {
     "data": {
      "text/plain": [
       "[0.022930318489670753, 0.992900013923645]"
      ]
     },
     "execution_count": 23,
     "metadata": {},
     "output_type": "execute_result"
    }
   ],
   "source": [
    "#transfer learning\n",
    "model_for_tl =keras.models.load_model('saved_model/')\n",
    "model_for_tl.trainable = False\n",
    "for layer in model_for_tl.layers:\n",
    "    assert layer.trainable == False\n",
    "\n",
    "base_inputs = model_for_tl.layers[0].input\n",
    "base_outputs = model_for_tl.layers[-2].output\n",
    "output = layers.Dense(10)(base_outputs)\n",
    "\n",
    "new_model = keras.Model(inputs=base_inputs, outputs = output)\n",
    "new_model.compile(optimizer =keras.optimizers.Adam(),loss = tf.keras.losses.SparseCategoricalCrossentropy(from_logits=True),metrics = ['accuracy'])\n",
    "\n",
    "new_model.fit(train_images,train_labels,epochs = 3,verbose = 2)\n",
    "new_model.evaluate(test_images, test_labels, verbose=2)"
   ]
  }
 ],
 "metadata": {
  "interpreter": {
   "hash": "f5ca2acd7cfffe1ba430de162f968a242c109575471a8c149f67da86ddb07b1e"
  },
  "kernelspec": {
   "display_name": "Python 3.10.2 64-bit (system)",
   "language": "python",
   "name": "python3"
  },
  "language_info": {
   "codemirror_mode": {
    "name": "ipython",
    "version": 3
   },
   "file_extension": ".py",
   "mimetype": "text/x-python",
   "name": "python",
   "nbconvert_exporter": "python",
   "pygments_lexer": "ipython3",
   "version": "3.10.2"
  },
  "orig_nbformat": 4
 },
 "nbformat": 4,
 "nbformat_minor": 2
}
