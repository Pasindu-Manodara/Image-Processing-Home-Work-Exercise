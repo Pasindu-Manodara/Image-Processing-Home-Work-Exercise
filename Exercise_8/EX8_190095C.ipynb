{
 "cells": [
  {
   "cell_type": "markdown",
   "metadata": {},
   "source": [
    "### Name - Bolonghe B.P.M\n",
    "### Index No - 190095C\n",
    "### GitHub repository - \n"
   ]
  },
  {
   "cell_type": "markdown",
   "metadata": {},
   "source": [
    "##### Question 1 & 2"
   ]
  },
  {
   "cell_type": "code",
   "execution_count": 5,
   "metadata": {},
   "outputs": [
    {
     "name": "stdout",
     "output_type": "stream",
     "text": [
      "[[ 4.80251845e+01  1.44011271e+03 -5.71648932e+02  7.53293366e+01]\n",
      " [ 1.53577034e+03 -6.41434324e+01 -1.63127843e+02  1.85810055e+02]\n",
      " [ 4.88387837e-02 -1.81568392e-01 -9.82164799e-01  6.14604846e-01]]\n"
     ]
    }
   ],
   "source": [
    "import numpy as np\n",
    "import cv2 as cv\n",
    "\n",
    "f = open(r'./Images/templeSparseRing/templeSR_par.txt','r')\n",
    "assert f is not None\n",
    "\n",
    "n = int(f.readline())\n",
    "l = f.readline().split()\n",
    "im1_fn =l[0]\n",
    "\n",
    "K1 = np.array([float(i) for i in l[1:10]]).reshape((3,3))\n",
    "R1 = np.array([float(i) for i in l[10:19]]).reshape((3,3))\n",
    "t1 = np.array([float(i) for i in l[19:22]]).reshape((3,1))\n",
    "\n",
    "\n",
    "l = f.readline().split()\n",
    "im2_fn =l[0]\n",
    "\n",
    "K2 = np.array([float(i) for i in l[1:10]]).reshape((3,3))\n",
    "R2 = np.array([float(i) for i in l[10:19]]).reshape((3,3))\n",
    "t2 = np.array([float(i) for i in l[19:22]]).reshape((3,1))\n",
    "\n",
    "im1 = cv.imread(r'./Images/templeSparseRing/'+im1_fn,cv.IMREAD_COLOR)\n",
    "im2 = cv.imread(r'./Images/templeSparseRing/'+im2_fn,cv.IMREAD_COLOR)\n",
    "assert im1 is not None\n",
    "\n",
    "# cv.namedWindow('Im')\n",
    "# cv.imshow('Im',im1)\n",
    "# cv.waitKey(0)\n",
    "# cv.imshow('Im',im2)\n",
    "# cv.waitKey(0)\n",
    "# cv.destroyAllWindows()\n",
    "\n",
    "\n",
    "\n",
    "P1 = K1 @ np.hstack((R1,t1))\n",
    "P2 = K2 @ np.hstack((R2,t2))\n",
    "\n",
    "print(P1)\n"
   ]
  },
  {
   "cell_type": "markdown",
   "metadata": {},
   "source": [
    "##### Question 3"
   ]
  },
  {
   "cell_type": "code",
   "execution_count": 15,
   "metadata": {},
   "outputs": [
    {
     "name": "stdout",
     "output_type": "stream",
     "text": [
      "F = [[-2.87071497e-04 -3.96261289e-02  2.94221686e+02]\n",
      " [-3.55039713e-02  1.65329260e-04  1.78860854e+01]\n",
      " [-2.76702814e+02  2.12942175e+01 -9.06669374e+03]]\n"
     ]
    }
   ],
   "source": [
    "from scipy.linalg import null_space\n",
    "def skew(x):\n",
    "    x = x.ravel()\n",
    "    return np.array([[0,-x[2],x[1]],[x[2],0,-x[0]],[-x[1],x[0],0]])\n",
    " \n",
    "C = null_space(P1)\n",
    "C=C*np.sign(C[0,0])\n",
    "e2 = P2 @ C\n",
    "e2x = skew(e2)\n",
    "\n",
    "F=e2x @ P2 @ np.linalg.pinv(P1)\n",
    "print('F =',F)\n",
    "\n",
    "x = np.array([130,115,1])\n",
    "cv.circle(im1,(x[0],x[1]),5,(0,0,255),-1)\n",
    "\n",
    "l2 = F @ x.T\n",
    "\n",
    "p1 = np.array([0,(l2[0]*0+l2[2])/l2[1]]).astype(int)\n",
    "p2 = np.array([500,(l2[0]*500+l2[2])/l2[1]]).astype(int)\n",
    "cv.line(im2,(p1[0],p1[1]),(p2[0],p2[1]),(255,0,0),5)\n",
    "\n",
    "cv.namedWindow('Im')\n",
    "cv.imshow('Im',im1)\n",
    "cv.waitKey(0)\n",
    "cv.imshow('Im',im2)\n",
    "cv.waitKey(0)\n",
    "cv.destroyAllWindows()"
   ]
  },
  {
   "cell_type": "code",
   "execution_count": null,
   "metadata": {},
   "outputs": [],
   "source": []
  }
 ],
 "metadata": {
  "interpreter": {
   "hash": "71a9e55ea9a4eb0ec0516cb2ecfe4cae1c555e7d5ef5085da43b83b5c34d74bd"
  },
  "kernelspec": {
   "display_name": "Python 3.10.2 64-bit (system)",
   "language": "python",
   "name": "python3"
  },
  "language_info": {
   "codemirror_mode": {
    "name": "ipython",
    "version": 3
   },
   "file_extension": ".py",
   "mimetype": "text/x-python",
   "name": "python",
   "nbconvert_exporter": "python",
   "pygments_lexer": "ipython3",
   "version": "3.10.2"
  },
  "orig_nbformat": 4
 },
 "nbformat": 4,
 "nbformat_minor": 2
}
