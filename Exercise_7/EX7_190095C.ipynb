{
 "cells": [
  {
   "cell_type": "code",
   "execution_count": 2,
   "metadata": {},
   "outputs": [],
   "source": [
    "import numpy as np\n",
    "import cv2 as cv\n",
    "import matplotlib.pyplot as plt\n",
    "from plyfile import PlyData,PlyElement \n",
    "\n",
    "\n",
    "pcd = PlyData.read(r'images/airplane.ply')\n",
    "assert pcd is not None\n",
    "\n",
    "points = np.concatenate((pcd['vertex']['x'].reshape(1,-1),pcd['vertex']['y'].reshape(1,-1),pcd['vertex']['z'].reshape(1,-1)),axis=0)\n",
    "points = points"
   ]
  },
  {
   "cell_type": "code",
   "execution_count": null,
   "metadata": {},
   "outputs": [],
   "source": [
    "ones =np.ones((1,points.shape[1]))\n",
    "X = np.concatenate((points,ones),axis = 0)\n",
    "\n",
    "R = np.array([[1,0,0],[0,1,0],[0,0,1]])\n",
    "K = np.array([[1,0,0],[0,1,0],[0,0,1]])\n",
    "t =-np.array([[0],[0],[-4000]])\n",
    "\n",
    "P1 = K @ np.concatenate((R,t),axis=1)\n",
    "R = np.array([[0,1,0],\n",
    "             [1,0,0],\n",
    "             [0,0,1]])\n",
    "K = np.array([[0.5,0,0],\n",
    "            [0,0.5,0],\n",
    "            [0,0,1]])\n",
    "t =-np.array([[0],[0],[-4000]])\n",
    "P2 = K @ np.concatenate((R,t),axis=1)\n",
    "\n",
    "\n",
    "x1 = P1 @ X\n",
    "x2 = P2 @ X\n",
    "x1 = x1/x1[2,:]\n",
    "\n",
    "fig,ax = plt.subplots(1,1,sharex=True,sharey=True)\n",
    "ax.scatter(x1[0,:],x1[1,:])\n",
    "ax.scatter(x2[0,:],x2[1,:])\n",
    "ax.axis('equal')\n",
    "plt.show()\n",
    "\n"
   ]
  },
  {
   "cell_type": "code",
   "execution_count": 6,
   "metadata": {},
   "outputs": [
    {
     "name": "stdout",
     "output_type": "stream",
     "text": [
      "Item 1 , area in pixels- 59143\n",
      "Item 1 , area in pixels- 2318.642172\n",
      "Item 2 , area in pixels- 59211\n",
      "Item 2 , area in pixels- 2321.3080440000003\n"
     ]
    }
   ],
   "source": [
    "import numpy as np\n",
    "import cv2 as cv\n",
    "import matplotlib.pyplot as plt\n",
    "\n",
    "im = cv.imread(r'images/earrings.jpg',cv.IMREAD_COLOR)\n",
    "assert im is not None\n",
    "hsv = cv.cvtColor(im,cv.COLOR_BGR2HSV)\n",
    "th,bw = cv.threshold(hsv[:,:,1],0,255,cv.THRESH_BINARY+cv.THRESH_OTSU)\n",
    "\n",
    "w =5\n",
    "kernel = np.ones((w,w),np.uint8)\n",
    "opened = cv.morphologyEx(bw,cv.MORPH_CLOSE,kernel)\n",
    "\n",
    "retval , labels, stats,centeroids = cv.connectedComponentsWithStats(bw)\n",
    "colormapped = cv.applyColorMap((labels/np.amax(labels)*255).astype('uint8'),cv.COLORMAP_PARULA)\n",
    "\n",
    "z = 720\n",
    "f = 8\n",
    "for i,s in enumerate(stats):\n",
    "    if i !=0:\n",
    "        print('Item',i,', area in pixels-',s[4])\n",
    "        print('Item',i,', area in pixels-',s[4]*(2.2e-3)**2*(z*z)/(f*f))\n",
    "\n",
    "\n",
    "cv.namedWindow('Images')\n",
    "cv.imshow('Images',im)\n",
    "cv.waitKey()\n",
    "cv.imshow('Images',hsv[:,:,1])\n",
    "cv.waitKey()\n",
    "cv.imshow('Images',bw)\n",
    "cv.waitKey()\n",
    "cv.imshow('Images',opened)\n",
    "cv.waitKey()\n",
    "cv.imshow('Images',colormapped)\n",
    "cv.waitKey()\n",
    "cv.destroyAllWindows()"
   ]
  },
  {
   "cell_type": "code",
   "execution_count": null,
   "metadata": {},
   "outputs": [],
   "source": []
  }
 ],
 "metadata": {
  "interpreter": {
   "hash": "71a9e55ea9a4eb0ec0516cb2ecfe4cae1c555e7d5ef5085da43b83b5c34d74bd"
  },
  "kernelspec": {
   "display_name": "Python 3.10.2 64-bit (system)",
   "language": "python",
   "name": "python3"
  },
  "language_info": {
   "codemirror_mode": {
    "name": "ipython",
    "version": 3
   },
   "file_extension": ".py",
   "mimetype": "text/x-python",
   "name": "python",
   "nbconvert_exporter": "python",
   "pygments_lexer": "ipython3",
   "version": "3.10.2"
  },
  "orig_nbformat": 4
 },
 "nbformat": 4,
 "nbformat_minor": 2
}
