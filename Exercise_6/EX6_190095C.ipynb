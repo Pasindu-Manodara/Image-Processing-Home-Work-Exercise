{
 "cells": [
  {
   "cell_type": "code",
   "execution_count": null,
   "metadata": {},
   "outputs": [],
   "source": [
    "import cv2 as cv\n",
    "import numpy as np\n",
    "im = cv.imread(r'./Images/sudoku.png',cv.IMREAD_COLOR)\n",
    "assert im is not None\n",
    "\n",
    "gray =cv.cvtColor(im,cv.COLOR_BGR2GRAY)\n",
    "edges = cv.Canny(im,cv.COLOR_BGR2GRAY)\n",
    "lines = cv.HoughLines"
   ]
  },
  {
   "cell_type": "code",
   "execution_count": 4,
   "metadata": {},
   "outputs": [],
   "source": [
    "import cv2 as cv\n",
    "import numpy as np\n",
    "\n",
    "img = cv.imread(r'./Images/coins.jpg',cv.IMREAD_COLOR)\n",
    "assert im is not None\n",
    "\n",
    "gray =cv.cvtColor(im,cv.COLOR_BGR2GRAY)\n",
    "\n",
    "\n",
    "\n",
    "circles = cv.HoughCircles(gray,cv.HOUGH_GRADIENT,1,50,\n",
    "                            param1=50,param2=30,minRadius=20,maxRadius=50)\n",
    "circles = np.uint16(np.around(circles))\n",
    "for i in circles[0,:]:\n",
    "    # draw the outer circle\n",
    "    cv.circle(img,(i[0],i[1]),i[2],(0,255,0),2)\n",
    "    # draw the center of the circle\n",
    "    cv.circle(img,(i[0],i[1]),2,(0,0,255),3)\n",
    "cv.imshow('detected circles',img)\n",
    "cv.waitKey(0)\n",
    "cv.destroyAllWindows()"
   ]
  },
  {
   "cell_type": "code",
   "execution_count": 10,
   "metadata": {},
   "outputs": [
    {
     "ename": "TypeError",
     "evalue": "'NoneType' object is not subscriptable",
     "output_type": "error",
     "traceback": [
      "\u001b[1;31m---------------------------------------------------------------------------\u001b[0m",
      "\u001b[1;31mTypeError\u001b[0m                                 Traceback (most recent call last)",
      "\u001b[1;32md:\\PasinduManodara\\Documents\\OneDrive - University of Moratuwa\\Academic Semester 4\\EN2550 - Fundamentals of Image Processing and Machine Vision\\coding assignments\\Exercise_6\\EX6_190095C.ipynb Cell 3'\u001b[0m in \u001b[0;36m<cell line: 22>\u001b[1;34m()\u001b[0m\n\u001b[0;32m     <a href='vscode-notebook-cell:/d%3A/PasinduManodara/Documents/OneDrive%20-%20University%20of%20Moratuwa/Academic%20Semester%204/EN2550%20-%20Fundamentals%20of%20Image%20Processing%20and%20Machine%20Vision/coding%20assignments/Exercise_6/EX6_190095C.ipynb#ch0000003?line=18'>19</a>\u001b[0m positions, votes \u001b[39m=\u001b[39m alg\u001b[39m.\u001b[39mdetect(im_edges)\n\u001b[0;32m     <a href='vscode-notebook-cell:/d%3A/PasinduManodara/Documents/OneDrive%20-%20University%20of%20Moratuwa/Academic%20Semester%204/EN2550%20-%20Fundamentals%20of%20Image%20Processing%20and%20Machine%20Vision/coding%20assignments/Exercise_6/EX6_190095C.ipynb#ch0000003?line=20'>21</a>\u001b[0m out \u001b[39m=\u001b[39m cv\u001b[39m.\u001b[39mcvtColor(im,cv\u001b[39m.\u001b[39mCOLOR_BAYER_BG2BGR)\n\u001b[1;32m---> <a href='vscode-notebook-cell:/d%3A/PasinduManodara/Documents/OneDrive%20-%20University%20of%20Moratuwa/Academic%20Semester%204/EN2550%20-%20Fundamentals%20of%20Image%20Processing%20and%20Machine%20Vision/coding%20assignments/Exercise_6/EX6_190095C.ipynb#ch0000003?line=21'>22</a>\u001b[0m \u001b[39mfor\u001b[39;00m x, y ,scale, orientation \u001b[39min\u001b[39;00m positions[\u001b[39m0\u001b[39m]:\n\u001b[0;32m     <a href='vscode-notebook-cell:/d%3A/PasinduManodara/Documents/OneDrive%20-%20University%20of%20Moratuwa/Academic%20Semester%204/EN2550%20-%20Fundamentals%20of%20Image%20Processing%20and%20Machine%20Vision/coding%20assignments/Exercise_6/EX6_190095C.ipynb#ch0000003?line=22'>23</a>\u001b[0m     halfHeight \u001b[39m=\u001b[39m templ\u001b[39m.\u001b[39mshape[\u001b[39m0\u001b[39m]\u001b[39m/\u001b[39m\u001b[39m2\u001b[39m\u001b[39m*\u001b[39mscale\n\u001b[0;32m     <a href='vscode-notebook-cell:/d%3A/PasinduManodara/Documents/OneDrive%20-%20University%20of%20Moratuwa/Academic%20Semester%204/EN2550%20-%20Fundamentals%20of%20Image%20Processing%20and%20Machine%20Vision/coding%20assignments/Exercise_6/EX6_190095C.ipynb#ch0000003?line=23'>24</a>\u001b[0m     halfWidth \u001b[39m=\u001b[39m templ\u001b[39m.\u001b[39mshape[\u001b[39m1\u001b[39m]\u001b[39m/\u001b[39m\u001b[39m2\u001b[39m\u001b[39m*\u001b[39mscale\n",
      "\u001b[1;31mTypeError\u001b[0m: 'NoneType' object is not subscriptable"
     ]
    }
   ],
   "source": [
    "import cv2 as cv\n",
    "import numpy as np\n",
    "\n",
    "im=cv.imread(r'./Images/pic1.png',cv.IMREAD_REDUCED_GRAYSCALE_2)\n",
    "assert im is not None\n",
    "templ=cv.imread(r'./Images/templ.png',cv.IMREAD_REDUCED_GRAYSCALE_2)\n",
    "assert templ is not None\n",
    "\n",
    "im_edges = cv.Canny(im,50,250)\n",
    "templ_edges = cv.Canny(templ,50,250)\n",
    "alg = cv.createGeneralizedHoughGuil()\n",
    "alg.setTemplate(templ_edges)\n",
    "alg.setAngleThresh(100000)\n",
    "alg.setScaleThresh(40000)\n",
    "alg.setPosThresh(1000)\n",
    "alg.setAngleStep(0.1)\n",
    "alg.setMinScale(0.9)\n",
    "alg.setMaxScale(1.1)\n",
    "positions, votes = alg.detect(im_edges)\n",
    "\n",
    "out = cv.cvtColor(im,cv.COLOR_BAYER_BG2BGR)\n",
    "for x, y ,scale, orientation in positions[0]:\n",
    "    halfHeight = templ.shape[0]/2*scale\n",
    "    halfWidth = templ.shape[1]/2*scale\n",
    "    p1=(int(x-halfWidth),int(y-halfHeight))\n",
    "    p2=(int(x+halfWidth),int(y+halfHeight))\n",
    "    print(\"x={},y={},scale={},orientation={},p1={},p2={}\".format(x,y,scale,orientation,p1,p2))\n",
    "    cv.rectangle(out,p1,p2,(0.0,255))\n",
    "\n",
    "    "
   ]
  },
  {
   "cell_type": "code",
   "execution_count": 14,
   "metadata": {},
   "outputs": [
    {
     "ename": "TypeError",
     "evalue": "'AxesSubplot' object is not subscriptable",
     "output_type": "error",
     "traceback": [
      "\u001b[1;31m---------------------------------------------------------------------------\u001b[0m",
      "\u001b[1;31mTypeError\u001b[0m                                 Traceback (most recent call last)",
      "\u001b[1;32md:\\PasinduManodara\\Documents\\OneDrive - University of Moratuwa\\Academic Semester 4\\EN2550 - Fundamentals of Image Processing and Machine Vision\\coding assignments\\Exercise_6\\EX6_190095C.ipynb Cell 4'\u001b[0m in \u001b[0;36m<cell line: 14>\u001b[1;34m()\u001b[0m\n\u001b[0;32m     <a href='vscode-notebook-cell:/d%3A/PasinduManodara/Documents/OneDrive%20-%20University%20of%20Moratuwa/Academic%20Semester%204/EN2550%20-%20Fundamentals%20of%20Image%20Processing%20and%20Machine%20Vision/coding%20assignments/Exercise_6/EX6_190095C.ipynb#ch0000004?line=10'>11</a>\u001b[0m y \u001b[39m=\u001b[39mnp\u001b[39m.\u001b[39mappend(X[\u001b[39m1\u001b[39m,:],X[\u001b[39m1\u001b[39m,\u001b[39m0\u001b[39m])\n\u001b[0;32m     <a href='vscode-notebook-cell:/d%3A/PasinduManodara/Documents/OneDrive%20-%20University%20of%20Moratuwa/Academic%20Semester%204/EN2550%20-%20Fundamentals%20of%20Image%20Processing%20and%20Machine%20Vision/coding%20assignments/Exercise_6/EX6_190095C.ipynb#ch0000004?line=12'>13</a>\u001b[0m fig,ax \u001b[39m=\u001b[39mplt\u001b[39m.\u001b[39msubplots(\u001b[39m1\u001b[39m,\u001b[39m1\u001b[39m)\n\u001b[1;32m---> <a href='vscode-notebook-cell:/d%3A/PasinduManodara/Documents/OneDrive%20-%20University%20of%20Moratuwa/Academic%20Semester%204/EN2550%20-%20Fundamentals%20of%20Image%20Processing%20and%20Machine%20Vision/coding%20assignments/Exercise_6/EX6_190095C.ipynb#ch0000004?line=13'>14</a>\u001b[0m ax[\u001b[39m0\u001b[39m]\u001b[39m.\u001b[39mplot(x,y,color\u001b[39m=\u001b[39m\u001b[39m'\u001b[39m\u001b[39mg\u001b[39m\u001b[39m'\u001b[39m)\n\u001b[0;32m     <a href='vscode-notebook-cell:/d%3A/PasinduManodara/Documents/OneDrive%20-%20University%20of%20Moratuwa/Academic%20Semester%204/EN2550%20-%20Fundamentals%20of%20Image%20Processing%20and%20Machine%20Vision/coding%20assignments/Exercise_6/EX6_190095C.ipynb#ch0000004?line=14'>15</a>\u001b[0m ax[\u001b[39m0\u001b[39m]\u001b[39m.\u001b[39mset_aspect(\u001b[39m'\u001b[39m\u001b[39mequal\u001b[39m\u001b[39m'\u001b[39m)\n\u001b[0;32m     <a href='vscode-notebook-cell:/d%3A/PasinduManodara/Documents/OneDrive%20-%20University%20of%20Moratuwa/Academic%20Semester%204/EN2550%20-%20Fundamentals%20of%20Image%20Processing%20and%20Machine%20Vision/coding%20assignments/Exercise_6/EX6_190095C.ipynb#ch0000004?line=15'>16</a>\u001b[0m plt\u001b[39m.\u001b[39mshow()\n",
      "\u001b[1;31mTypeError\u001b[0m: 'AxesSubplot' object is not subscriptable"
     ]
    },
    {
     "data": {
      "image/png": "[encoded data removed]",
      "text/plain": [
       "<Figure size 432x288 with 1 Axes>"
      ]
     },
     "metadata": {
      "needs_background": "light"
     },
     "output_type": "display_data"
    }
   ],
   "source": [
    "import matplotlib.pyplot as plt\n",
    "import numpy as np\n",
    "\n",
    "a, b, c, d = [0,0,1],[0,1,1],[1,1,1],[1,0,1]\n",
    "X = np.array([a,b,c,d]).T\n",
    "\n",
    "theta =np.pi*30/180\n",
    "s=1\n",
    "tx,ty = 1.5,2.2\n",
    "H=np.array([[s*np.cos(theta),-s*np.sin(theta),tx],[s*np.sin(theta),s*np.cos(theta),ty],[0,0,1]])\n",
    "Y = H @ X\n",
    "a11,a12,a21,a22 = 0.8,1.2,0.7,1.5\n",
    "A = np.array([[a11,a12,tx],[a21,a22,ty],[0,0,1]])\n",
    "\n",
    "\n",
    "x=np.append(X[0,:],X[0,0])\n",
    "y =np.append(X[1,:],X[1,0])\n",
    "\n",
    "fig,ax =plt.subplots(1,1)\n",
    "ax[0].plot(x,y,color='g')\n",
    "ax[0].set_aspect('equal')\n",
    "\n",
    "\n",
    "\n",
    "x=np.append(Y[0,:],Y[0,0])\n",
    "y =np.append(Y[1,:],Y[1,0])\n",
    "\n",
    "fig,ax =plt.subplots(1,1)\n",
    "ax[0].plot(x,y,color='g')\n",
    "ax[0].set_aspect('equal')\n",
    "plt.show()\n"
   ]
  },
  {
   "cell_type": "code",
   "execution_count": null,
   "metadata": {},
   "outputs": [],
   "source": [
    "import cv2 as cv\n",
    "import numpy as np\n",
    "\n",
    "im1 = cv.imread(r'./Images/img1.ppm',cv.IMREAD_ANYCOLOR)\n",
    "im2 = cv.imread(r'./Images/img4.ppm',cv.IMREAD_ANYCOLOR)\n",
    "\n",
    "H = np.array\n"
   ]
  }
 ],
 "metadata": {
  "interpreter": {
   "hash": "71a9e55ea9a4eb0ec0516cb2ecfe4cae1c555e7d5ef5085da43b83b5c34d74bd"
  },
  "kernelspec": {
   "display_name": "Python 3.10.2 64-bit (system)",
   "language": "python",
   "name": "python3"
  },
  "language_info": {
   "codemirror_mode": {
    "name": "ipython",
    "version": 3
   },
   "file_extension": ".py",
   "mimetype": "text/x-python",
   "name": "python",
   "nbconvert_exporter": "python",
   "pygments_lexer": "ipython3",
   "version": "3.10.2"
  },
  "orig_nbformat": 4
 },
 "nbformat": 4,
 "nbformat_minor": 2
}
