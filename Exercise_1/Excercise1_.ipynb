{
  "cells": [
    {
      "cell_type": "markdown",
      "metadata": {},
      "source": [
        "### Name - Bolonghe B.P.M\n",
        "### Index no - 190095C"
      ]
    },
    {
      "cell_type": "code",
      "execution_count": 2,
      "metadata": {
        "colab": {
          "base_uri": "https://localhost:8080/",
          "height": 0
        },
        "id": "oHvK4r8Ign-n",
        "outputId": "47d98a7d-aded-444c-af1a-94a414a4b49a"
      },
      "outputs": [
        {
          "name": "stdout",
          "output_type": "stream",
          "text": [
            "1 : 1\n",
            "2 : 4\n",
            "3 : 9\n",
            "4 : 16\n",
            "5 : 25\n"
          ]
        }
      ],
      "source": [
        "for i in range(1,6):\n",
        "  print(i, \":\", i**2)"
      ]
    },
    {
      "cell_type": "code",
      "execution_count": 3,
      "metadata": {
        "id": "nTnP5Ruevnw-"
      },
      "outputs": [],
      "source": [
        "import sympy"
      ]
    },
    {
      "cell_type": "code",
      "execution_count": 4,
      "metadata": {
        "colab": {
          "base_uri": "https://localhost:8080/",
          "height": 0
        },
        "id": "Z5QEaT4FySni",
        "outputId": "06250ded-821f-4b3f-c27c-1db01ab5c21b"
      },
      "outputs": [
        {
          "name": "stdout",
          "output_type": "stream",
          "text": [
            "1\n",
            "16\n"
          ]
        }
      ],
      "source": [
        "for i in range(1,6):\n",
        "  if not sympy.isprime(i):\n",
        "    print(i**2)"
      ]
    },
    {
      "cell_type": "code",
      "execution_count": 5,
      "metadata": {
        "colab": {
          "base_uri": "https://localhost:8080/",
          "height": 0
        },
        "id": "fwnOS3_Tv6zk",
        "outputId": "53b8321b-2b01-4d92-900c-d1ab74c38846"
      },
      "outputs": [
        {
          "name": "stdout",
          "output_type": "stream",
          "text": [
            "1\n",
            "4\n",
            "9\n",
            "16\n",
            "25\n"
          ]
        }
      ],
      "source": [
        "square = [i**2 for i in range(1,6)]\n",
        "for item in square:\n",
        "  print(item)"
      ]
    },
    {
      "cell_type": "code",
      "execution_count": 6,
      "metadata": {
        "colab": {
          "base_uri": "https://localhost:8080/",
          "height": 0
        },
        "id": "UhLHp-KgxKHw",
        "outputId": "001def7c-e8d4-435f-ea5f-858a4c124a14"
      },
      "outputs": [
        {
          "name": "stdout",
          "output_type": "stream",
          "text": [
            "1\n",
            "16\n"
          ]
        }
      ],
      "source": [
        "unprime_square = [i**2 for i in range(1,6) if not sympy.isprime(i) ]\n",
        "for item in unprime_square:\n",
        "  print(item)"
      ]
    },
    {
      "cell_type": "code",
      "execution_count": 7,
      "metadata": {
        "id": "42m2BHaP1ncP"
      },
      "outputs": [],
      "source": [
        "import numpy as np"
      ]
    },
    {
      "cell_type": "code",
      "execution_count": 8,
      "metadata": {
        "colab": {
          "base_uri": "https://localhost:8080/",
          "height": 0
        },
        "id": "6lt5QT6u1QsX",
        "outputId": "4bf7dc58-8d8a-4f67-b550-bb652aa178b4"
      },
      "outputs": [
        {
          "name": "stdout",
          "output_type": "stream",
          "text": [
            "[[ 9 12 15  9]\n",
            " [25 32 39 19]\n",
            " [41 52 63 29]]\n"
          ]
        }
      ],
      "source": [
        "matA = np.array([[1,2],[3,4],[5,6]])\n",
        "matB = np.array([[7,8,9,1],[1,2,3,4]])\n",
        "matC = np.dot(matA,matB)\n",
        "print(matC)"
      ]
    },
    {
      "cell_type": "code",
      "execution_count": 9,
      "metadata": {
        "colab": {
          "base_uri": "https://localhost:8080/",
          "height": 0
        },
        "id": "h_MC-C4f2loS",
        "outputId": "9290dcd8-eedf-406b-950b-200458c36c6e"
      },
      "outputs": [
        {
          "name": "stdout",
          "output_type": "stream",
          "text": [
            "[[ 3  4]\n",
            " [15 16]\n",
            " [15  6]]\n"
          ]
        }
      ],
      "source": [
        "matA = np.array([[1,2],[3,4],[5,6]])\n",
        "matB = np.array([[3,2],[5,4],[3,1]])\n",
        "matC = np.multiply(matA,matB)\n",
        "print(matC)"
      ]
    },
    {
      "cell_type": "code",
      "execution_count": 10,
      "metadata": {
        "colab": {
          "base_uri": "https://localhost:8080/",
          "height": 0
        },
        "id": "D3H1_uT13Q2O",
        "outputId": "629d3c0e-46a9-4ef4-c0a5-a9f3b3732140"
      },
      "outputs": [
        {
          "name": "stdout",
          "output_type": "stream",
          "text": [
            "[[ 0  8  8  6  0  9  4]\n",
            " [ 9  0  0  3  7  9  1]\n",
            " [ 2  0  4  3  7  8  3]\n",
            " [ 8  8  7  8  7 10  3]\n",
            " [ 4  4  2  4  8  3  2]]\n"
          ]
        }
      ],
      "source": [
        "array1 = np.random.randint(11, size=(5,7))\n",
        "print(array1)"
      ]
    },
    {
      "cell_type": "code",
      "execution_count": 11,
      "metadata": {
        "colab": {
          "base_uri": "https://localhost:8080/"
        },
        "id": "98-cENFXFgkM",
        "outputId": "881e2aaa-cdaf-41cb-d649-2dd6d7bd8e12"
      },
      "outputs": [
        {
          "name": "stdout",
          "output_type": "stream",
          "text": [
            "[[2 0]\n",
            " [8 8]\n",
            " [4 4]]\n",
            "6\n"
          ]
        }
      ],
      "source": [
        "array2 = array1[2:5,0:2]\n",
        "print(array2)\n",
        "print(np.size(array2))"
      ]
    },
    {
      "cell_type": "code",
      "execution_count": 13,
      "metadata": {
        "colab": {
          "base_uri": "https://localhost:8080/"
        },
        "id": "BBhWJBFaF_lj",
        "outputId": "5d7723f5-df42-46fc-f748-23e95945367e"
      },
      "outputs": [
        {
          "name": "stdout",
          "output_type": "stream",
          "text": [
            "[[1 0 1]\n",
            " [1 0 1]\n",
            " [1 0 1]\n",
            " [1 0 1]]\n",
            "[[ 2  2  4]\n",
            " [ 5  5  7]\n",
            " [ 8  8 10]\n",
            " [11 11 13]]\n"
          ]
        }
      ],
      "source": [
        "x = np.array([[1,2,3], [4,5,6], [7,8,9], [10, 11, 12]])\n",
        "v = np.array([1, 0, 1])\n",
        "vv = np.tile(v, (4, 1)) \n",
        "print(vv) \n",
        "y = x + vv\n",
        "print(y)"
      ]
    },
    {
      "cell_type": "code",
      "execution_count": 14,
      "metadata": {
        "colab": {
          "base_uri": "https://localhost:8080/"
        },
        "id": "XX3yn8uoN9pC",
        "outputId": "36444f7e-209d-40bf-9a95-cbc5fdc2ad96"
      },
      "outputs": [
        {
          "name": "stdout",
          "output_type": "stream",
          "text": [
            "[[ 2  2  4]\n",
            " [ 5  5  7]\n",
            " [ 8  8 10]\n",
            " [11 11 13]]\n"
          ]
        }
      ],
      "source": [
        "x = np.array([[1,2,3], [4,5,6], [7,8,9], [10, 11, 12]])\n",
        "v = np.array([1, 0, 1])\n",
        "y = x + v\n",
        "print(y)"
      ]
    },
    {
      "cell_type": "code",
      "execution_count": 15,
      "metadata": {
        "colab": {
          "base_uri": "https://localhost:8080/"
        },
        "id": "_2F1p5DZOHE7",
        "outputId": "9fae4e1e-d486-4b7e-bd6b-6254f09e8593"
      },
      "outputs": [
        {
          "name": "stdout",
          "output_type": "stream",
          "text": [
            "[[ 4  5]\n",
            " [ 8 10]\n",
            " [12 15]]\n",
            "[[2 4 6]\n",
            " [5 7 9]]\n",
            "[[ 5  6  7]\n",
            " [ 9 10 11]]\n",
            "[[ 5  6  7]\n",
            " [ 9 10 11]]\n",
            "[[ 2  4  6]\n",
            " [ 8 10 12]]\n"
          ]
        }
      ],
      "source": [
        "v = np.array([1,2,3]) \n",
        "w = np.array([4,5])    \n",
        "\n",
        "print(np.reshape(v, (3, 1)) * w)\n",
        "\n",
        "\n",
        "x = np.array([[1,2,3], [4,5,6]])\n",
        "\n",
        "print(x + v)\n",
        "\n",
        "\n",
        "print((x.T + w).T)\n",
        "\n",
        "print(x + np.reshape(w, (2, 1)))\n",
        "\n",
        "\n",
        "print(x * 2)"
      ]
    },
    {
      "cell_type": "code",
      "execution_count": 16,
      "metadata": {
        "colab": {
          "base_uri": "https://localhost:8080/",
          "height": 300
        },
        "id": "Z2MTeDS1OUW-",
        "outputId": "88056b8d-c46d-44a8-bbc2-3ea7b9808ec5"
      },
      "outputs": [
        {
          "data": {
            "text/plain": [
              "array([[-2.88867993],\n",
              "       [ 1.9810694 ]])"
            ]
          },
          "execution_count": 16,
          "metadata": {},
          "output_type": "execute_result"
        },
        {
          "data": {
            "image/png": "[encoded data removed]",
            "text/plain": [
              "<Figure size 432x288 with 1 Axes>"
            ]
          },
          "metadata": {
            "needs_background": "light"
          },
          "output_type": "display_data"
        }
      ],
      "source": [
        "import matplotlib.pyplot as plt\n",
        "from numpy import linalg\n",
        "m, c = 2 , -4\n",
        "N = 100\n",
        "x = np.linspace(0 , N-1, N).reshape(N, 1)\n",
        "sigma = 10\n",
        "y = m*x + c + np.random.normal(0 ,sigma ,(N, 1 ))\n",
        "plt.scatter(x,y)\n",
        "# print(x)\n",
        "X = np.append(np.ones((N,1)),x , axis=1)\n",
        "w = linalg.inv(X.T @ X) @ X.T @ y\n",
        "w\n"
      ]
    },
    {
      "cell_type": "code",
      "execution_count": 2,
      "metadata": {
        "id": "uO9N-7W_VVJk"
      },
      "outputs": [],
      "source": [
        "import cv2 as cv\n",
        "im = cv.imread(r'./gal_gaussian.png')\n",
        "\n",
        "cv.namedWindow('Image',cv.WINDOW_AUTOSIZE)\n",
        "cv.imshow('Image',im)\n",
        "cv.waitKey(0)\n",
        "cv.destroyAllWindows()"
      ]
    },
    {
      "cell_type": "code",
      "execution_count": 3,
      "metadata": {},
      "outputs": [],
      "source": [
        "import cv2 as cv\n",
        "im = cv.imread(r'./gal_gaussian.png')\n",
        "blur = cv.GaussianBlur(im,(5,5),0)\n",
        "cv.namedWindow('Image',cv.WINDOW_AUTOSIZE)\n",
        "cv.imshow('Image',blur)\n",
        "cv.waitKey(0)\n",
        "cv.destroyAllWindows()"
      ]
    },
    {
      "cell_type": "code",
      "execution_count": 13,
      "metadata": {},
      "outputs": [],
      "source": [
        "import cv2 as cv\n",
        "im = cv.imread(r'./gal_sandp.png')\n",
        "median_blur= cv.medianBlur(im,3)\n",
        "cv.namedWindow('Image',cv.WINDOW_AUTOSIZE)\n",
        "cv.imshow('Image',median_blur)\n",
        "cv.waitKey(0)\n",
        "cv.destroyAllWindows()\n"
      ]
    },
    {
      "cell_type": "code",
      "execution_count": 8,
      "metadata": {},
      "outputs": [],
      "source": [
        "import numpy as np\n",
        "import matplotlib.pyplot as plt\n",
        "im = np.zeros((40,60),dtype=np.uint8)\n",
        "im[0:21, 30:61]=125\n",
        "cv.namedWindow('Image',cv.WINDOW_AUTOSIZE)\n",
        "cv.imshow('Image',im)\n",
        "cv.waitKey(0)\n",
        "cv.destroyAllWindows()"
      ]
    },
    {
      "cell_type": "code",
      "execution_count": 18,
      "metadata": {},
      "outputs": [
        {
          "data": {
            "image/png": "[encoded data removed]",
            "text/plain": [
              "<Figure size 432x288 with 1 Axes>"
            ]
          },
          "metadata": {
            "needs_background": "light"
          },
          "output_type": "display_data"
        }
      ],
      "source": [
        "import numpy as np\n",
        "import matplotlib.pyplot as plt\n",
        "im = np.zeros((40,60),dtype=np.uint8)\n",
        "im[0:21, 30:61]=125\n",
        "fig,ax= plt.subplots()\n",
        "ax.imshow(im, cmap='gray',vmin=0,vmax=255)\n",
        "plt.show()"
      ]
    },
    {
      "cell_type": "code",
      "execution_count": 28,
      "metadata": {},
      "outputs": [
        {
          "data": {
            "image/png": "[encoded data removed]",
            "text/plain": [
              "<Figure size 432x288 with 1 Axes>"
            ]
          },
          "metadata": {
            "needs_background": "light"
          },
          "output_type": "display_data"
        }
      ],
      "source": [
        "import numpy as np\n",
        "import matplotlib.pyplot as plt\n",
        "im = np.zeros((40,60,3),dtype=np.uint8)\n",
        "im[:]=(0,124,255)\n",
        "im[20:41, 0:31]=(218,24,132)\n",
        "fig,ax= plt.subplots()\n",
        "ax.imshow(im)\n",
        "plt.show()"
      ]
    },
    {
      "cell_type": "code",
      "execution_count": 1,
      "metadata": {},
      "outputs": [],
      "source": [
        "import cv2 as cv\n",
        "im = cv.imread(r'./tom_dark.jpg')\n",
        "bim=cv.convertScaleAbs(im, alpha=2, beta=40)\n",
        "cv.namedWindow('Image',cv.WINDOW_AUTOSIZE)\n",
        "\n",
        "cv.imshow('Image',bim)\n",
        "cv.waitKey(0)\n",
        "cv.destroyAllWindows()"
      ]
    }
  ],
  "metadata": {
    "colab": {
      "collapsed_sections": [],
      "name": "Excercise1 .ipynb",
      "provenance": []
    },
    "kernelspec": {
      "display_name": "Python 3",
      "name": "python3"
    },
    "language_info": {
      "codemirror_mode": {
        "name": "ipython",
        "version": 3
      },
      "file_extension": ".py",
      "mimetype": "text/x-python",
      "name": "python",
      "nbconvert_exporter": "python",
      "pygments_lexer": "ipython3",
      "version": "3.10.2"
    }
  },
  "nbformat": 4,
  "nbformat_minor": 0
}
